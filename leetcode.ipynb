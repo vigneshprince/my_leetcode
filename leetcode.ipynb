{
 "cells": [
  {
   "cell_type": "code",
   "execution_count": 5,
   "metadata": {},
   "outputs": [
    {
     "name": "stdout",
     "output_type": "stream",
     "text": [
      "[1, 1, 0, 0]\n"
     ]
    },
    {
     "data": {
      "text/plain": [
       "3"
      ]
     },
     "execution_count": 5,
     "metadata": {},
     "output_type": "execute_result"
    }
   ],
   "source": [
    "class Solution:\n",
    "    def climbStairs(self, n: int) -> int:\n",
    "        li=[0]*(n+1)\n",
    "        li[0]=1\n",
    "        li[1]=1\n",
    "        for i in range(2,n+1):\n",
    "            li[i]=li[i-1]+li[i-2]\n",
    "        return li[n]\n",
    "Solution().climbStairs(3)"
   ]
  },
  {
   "cell_type": "code",
   "execution_count": 9,
   "metadata": {},
   "outputs": [
    {
     "name": "stdout",
     "output_type": "stream",
     "text": [
      "[1, 1, 2, 3, 3]\n"
     ]
    },
    {
     "data": {
      "text/plain": [
       "[1, 2, 3]"
      ]
     },
     "execution_count": 9,
     "metadata": {},
     "output_type": "execute_result"
    }
   ],
   "source": [
    "def linkedlist_to_list(link):\n",
    "    ret=[]\n",
    "    while link:\n",
    "        ret.append(link.val)\n",
    "        link=link.next\n",
    "    return ret\n",
    "\n",
    "\n",
    "class ListNode:\n",
    "    def __init__(self, val=0, next=None):\n",
    "        self.val = val\n",
    "        self.next = next\n",
    "li=[1,1,2,3,3]\n",
    "start=head=ListNode(0)\n",
    "for i in li:\n",
    "    head.next=ListNode(i)\n",
    "    head=head.next\n",
    "start=start.next\n",
    "\n",
    "print(linkedlist_to_list(start))\n",
    "\n",
    "\n",
    "class Solution:\n",
    "    def deleteDuplicates(self, head):\n",
    "        start=head\n",
    "        while head:\n",
    "            if head.next and head.val==head.next.val:\n",
    "                head.next=head.next.next\n",
    "            else:\n",
    "                head=head.next\n",
    "\n",
    "        return start\n",
    "linkedlist_to_list(Solution().deleteDuplicates(start))"
   ]
  },
  {
   "cell_type": "code",
   "execution_count": null,
   "metadata": {},
   "outputs": [],
   "source": []
  }
 ],
 "metadata": {
  "interpreter": {
   "hash": "88279d2366fe020547cde40dd65aa0e3aa662a6ec1f3ca12d88834876c85e1a6"
  },
  "kernelspec": {
   "display_name": "Python 3.9.7 ('base')",
   "language": "python",
   "name": "python3"
  },
  "language_info": {
   "codemirror_mode": {
    "name": "ipython",
    "version": 3
   },
   "file_extension": ".py",
   "mimetype": "text/x-python",
   "name": "python",
   "nbconvert_exporter": "python",
   "pygments_lexer": "ipython3",
   "version": "3.9.7"
  },
  "orig_nbformat": 4
 },
 "nbformat": 4,
 "nbformat_minor": 2
}
