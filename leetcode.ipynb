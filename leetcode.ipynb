{
 "cells": [
  {
   "cell_type": "code",
   "execution_count": 5,
   "metadata": {},
   "outputs": [
    {
     "name": "stdout",
     "output_type": "stream",
     "text": [
      "[1, 1, 0, 0]\n"
     ]
    },
    {
     "data": {
      "text/plain": [
       "3"
      ]
     },
     "execution_count": 5,
     "metadata": {},
     "output_type": "execute_result"
    }
   ],
   "source": [
    "class Solution:\n",
    "    def climbStairs(self, n: int) -> int:\n",
    "        li=[0]*(n+1)\n",
    "        li[0]=1\n",
    "        li[1]=1\n",
    "        for i in range(2,n+1):\n",
    "            li[i]=li[i-1]+li[i-2]\n",
    "        return li[n]\n",
    "Solution().climbStairs(3)"
   ]
  },
  {
   "cell_type": "code",
   "execution_count": 9,
   "metadata": {},
   "outputs": [
    {
     "name": "stdout",
     "output_type": "stream",
     "text": [
      "[1, 1, 2, 3, 3]\n"
     ]
    },
    {
     "data": {
      "text/plain": [
       "[1, 2, 3]"
      ]
     },
     "execution_count": 9,
     "metadata": {},
     "output_type": "execute_result"
    }
   ],
   "source": [
    "def linkedlist_to_list(link):\n",
    "    ret=[]\n",
    "    while link:\n",
    "        ret.append(link.val)\n",
    "        link=link.next\n",
    "    return ret\n",
    "\n",
    "\n",
    "class ListNode:\n",
    "    def __init__(self, val=0, next=None):\n",
    "        self.val = val\n",
    "        self.next = next\n",
    "li=[1,1,2,3,3]\n",
    "start=head=ListNode(0)\n",
    "for i in li:\n",
    "    head.next=ListNode(i)\n",
    "    head=head.next\n",
    "start=start.next\n",
    "\n",
    "print(linkedlist_to_list(start))\n",
    "\n",
    "\n",
    "class Solution:\n",
    "    def deleteDuplicates(self, head):\n",
    "        start=head\n",
    "        while head:\n",
    "            if head.next and head.val==head.next.val:\n",
    "                head.next=head.next.next\n",
    "            else:\n",
    "                head=head.next\n",
    "\n",
    "        return start\n",
    "linkedlist_to_list(Solution().deleteDuplicates(start))"
   ]
  },
  {
   "cell_type": "code",
   "execution_count": 17,
   "metadata": {},
   "outputs": [
    {
     "name": "stdout",
     "output_type": "stream",
     "text": [
      "len 1\n",
      "1\n",
      "2\n",
      "3\n",
      "len 2\n",
      "3\n",
      "5\n",
      "5\n",
      "len 1\n",
      "2\n",
      "4\n",
      "len 1\n",
      "4\n"
     ]
    },
    {
     "data": {
      "text/plain": [
       "4"
      ]
     },
     "execution_count": 17,
     "metadata": {},
     "output_type": "execute_result"
    }
   ],
   "source": [
    "from collections import deque\n",
    "class TreeNode:\n",
    "    def __init__(self, val=0, left=None, right=None):\n",
    "        self.val = val\n",
    "        self.left = left\n",
    "        self.right = right\n",
    "null=None\n",
    "\n",
    "li=deque([1,2,3,4,null,null,5])\n",
    "start=head=TreeNode(li.popleft())\n",
    "stk=deque([head])\n",
    "while li:\n",
    "    head=stk.popleft()\n",
    "    pop=li.popleft()\n",
    "    if pop:\n",
    "        head.left=TreeNode(pop)\n",
    "    pop=li.popleft()\n",
    "    if pop:\n",
    "        head.right=TreeNode(pop)\n",
    "    stk.append(head.left)\n",
    "    stk.append(head.right)\n",
    "\n",
    "class Solution:\n",
    "    def maxDepth(self, root) -> int:\n",
    "        maxdepth=0\n",
    "        if root:\n",
    "            stk=[root]\n",
    "            while stk:\n",
    "                print('len',len(stk))\n",
    "                maxdepth+=1\n",
    "                for i in range(len(stk)):\n",
    "                    root=stk.pop()\n",
    "                    print(root.val)\n",
    "                    if root.left:\n",
    "                        print(root.left.val)\n",
    "                        \n",
    "                        stk.append(root.left)\n",
    "                    if root.right:\n",
    "                        print(root.right.val)\n",
    "\n",
    "                        stk.append(root.right)\n",
    "            return maxdepth\n",
    "        return 0\n",
    "Solution().maxDepth(start)\n"
   ]
  },
  {
   "cell_type": "code",
   "execution_count": null,
   "metadata": {},
   "outputs": [],
   "source": []
  }
 ],
 "metadata": {
  "interpreter": {
   "hash": "ac012ad53361fc8309f8a7b0606d41724abebecbe012276f72349fe29c879271"
  },
  "kernelspec": {
   "display_name": "Python 3.8.3 ('base')",
   "language": "python",
   "name": "python3"
  },
  "language_info": {
   "codemirror_mode": {
    "name": "ipython",
    "version": 3
   },
   "file_extension": ".py",
   "mimetype": "text/x-python",
   "name": "python",
   "nbconvert_exporter": "python",
   "pygments_lexer": "ipython3",
   "version": "3.8.3"
  },
  "orig_nbformat": 4
 },
 "nbformat": 4,
 "nbformat_minor": 2
}
